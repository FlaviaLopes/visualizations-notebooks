{
 "cells": [
  {
   "cell_type": "markdown",
   "id": "f41450aa",
   "metadata": {},
   "source": [
    "# Visualização em 3D do `dataset` Íris"
   ]
  },
  {
   "cell_type": "code",
   "execution_count": 1,
   "id": "d5d2665e",
   "metadata": {},
   "outputs": [],
   "source": [
    "import pandas as pd\n",
    "import numpy as np\n",
    "import ipywidgets as widgets\n",
    "from ipywidgets import interact\n",
    "from IPython.display import display\n",
    "from sklearn.cluster import KMeans\n",
    "from sklearn import datasets"
   ]
  },
  {
   "cell_type": "code",
   "execution_count": 2,
   "id": "febe7c50",
   "metadata": {},
   "outputs": [],
   "source": [
    "def scatter_3d(x, y, z):\n",
    "    import plotly.express as px\n",
    "    df=X\n",
    "    colors = px.colors.sequential.Plasma\n",
    "    colors[0], colors[1], colors[2] = 'red', 'yellow', 'green'\n",
    "    fig = px.scatter_3d(\n",
    "    df, x=x, y=y, z=z, color='target', color_discrete_sequence=colors, height=500, width=1000\n",
    "    )\n",
    "    fig.update_layout(\n",
    "      showlegend=False,\n",
    "      scene_camera=dict(\n",
    "          up=dict(x=0, y=0, z=1), \n",
    "          center=dict(x=0, y=0, z=-0.1),\n",
    "          eye=dict(x=1.5, y=-1.4, z=0.5)\n",
    "      ),\n",
    "      margin=dict(l=0, r=0, b=0, t=0),\n",
    "      scene=dict(\n",
    "        xaxis=dict(\n",
    "            backgroundcolor='white',\n",
    "            color='black',\n",
    "            gridcolor='#f0f0f0',\n",
    "            title_font=dict(size=10),\n",
    "            tickfont=dict(size=10)\n",
    "          ),\n",
    "        yaxis=dict(\n",
    "          backgroundcolor='white',\n",
    "          color='black',\n",
    "          gridcolor='#f0f0f0',\n",
    "          title_font=dict(size=10),\n",
    "          tickfont=dict(size=10)\n",
    "        ),\n",
    "        zaxis=dict(\n",
    "          backgroundcolor='lightgrey',\n",
    "          color='black', \n",
    "          gridcolor='#f0f0f0',\n",
    "          title_font=dict(size=10),\n",
    "          tickfont=dict(size=10)\n",
    "        )\n",
    "      )\n",
    "    )\n",
    "    fig.update_traces(marker=dict(size=3, line=dict(color='black', width=0.1)))\n",
    "    fig.show()"
   ]
  },
  {
   "cell_type": "code",
   "execution_count": 3,
   "id": "b35b466f",
   "metadata": {},
   "outputs": [],
   "source": [
    "iris = datasets.load_iris()\n",
    "X = pd.DataFrame(iris.data, columns=['sepal length','sepal width','petal length','petal width'])\n",
    "X['target'] = iris.target\n",
    "X.target = X.target.replace({0: iris.target_names[0], 1: iris.target_names[1], 2: iris.target_names[2]})"
   ]
  },
  {
   "cell_type": "code",
   "execution_count": 4,
   "id": "a4f91e16",
   "metadata": {},
   "outputs": [
    {
     "data": {
      "application/vnd.jupyter.widget-view+json": {
       "model_id": "950ef1b281c54988a84765279c1bfa88",
       "version_major": 2,
       "version_minor": 0
      },
      "text/plain": [
       "interactive(children=(Dropdown(description='Eixo X', options=('sepal length', 'sepal width', 'petal length', '…"
      ]
     },
     "metadata": {},
     "output_type": "display_data"
    }
   ],
   "source": [
    "x = widgets.Dropdown(options=X.columns[:4].values, description='Eixo X', value=X.columns[0])\n",
    "y = widgets.Dropdown(options=X.columns[:4].values, description='Eixo Y', value=X.columns[1])\n",
    "z = widgets.Dropdown(options=X.columns[:4].values, description='Eixo Z', value=X.columns[2])\n",
    "ui = widgets.HBox([x,y,z])\n",
    "interact(scatter_3d, x=x, y=y, z=z);\n",
    "\n"
   ]
  },
  {
   "cell_type": "code",
   "execution_count": null,
   "id": "7b06c711",
   "metadata": {},
   "outputs": [],
   "source": [
    "!voila voila.ipynb "
   ]
  }
 ],
 "metadata": {
  "kernelspec": {
   "display_name": "Python 3 (ipykernel)",
   "language": "python",
   "name": "python3"
  },
  "language_info": {
   "codemirror_mode": {
    "name": "ipython",
    "version": 3
   },
   "file_extension": ".py",
   "mimetype": "text/x-python",
   "name": "python",
   "nbconvert_exporter": "python",
   "pygments_lexer": "ipython3",
   "version": "3.10.4"
  }
 },
 "nbformat": 4,
 "nbformat_minor": 5
}
